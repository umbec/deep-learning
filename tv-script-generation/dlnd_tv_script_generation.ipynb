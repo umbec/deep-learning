{
 "cells": [
  {
   "cell_type": "markdown",
   "metadata": {
    "deletable": true,
    "editable": true
   },
   "source": [
    "# TV Script Generation\n",
    "In this project, you'll generate your own [Simpsons](https://en.wikipedia.org/wiki/The_Simpsons) TV scripts using RNNs.  You'll be using part of the [Simpsons dataset](https://www.kaggle.com/wcukierski/the-simpsons-by-the-data) of scripts from 27 seasons.  The Neural Network you'll build will generate a new TV script for a scene at [Moe's Tavern](https://simpsonswiki.com/wiki/Moe's_Tavern).\n",
    "## Get the Data\n",
    "The data is already provided for you.  You'll be using a subset of the original dataset.  It consists of only the scenes in Moe's Tavern.  This doesn't include other versions of the tavern, like \"Moe's Cavern\", \"Flaming Moe's\", \"Uncle Moe's Family Feed-Bag\", etc.."
   ]
  },
  {
   "cell_type": "code",
   "execution_count": 1,
   "metadata": {
    "collapsed": true,
    "deletable": true,
    "editable": true
   },
   "outputs": [],
   "source": [
    "\"\"\"\n",
    "DON'T MODIFY ANYTHING IN THIS CELL\n",
    "\"\"\"\n",
    "import helper\n",
    "\n",
    "data_dir = './data/simpsons/moes_tavern_lines.txt'\n",
    "text = helper.load_data(data_dir)\n",
    "# Ignore notice, since we don't use it for analysing the data\n",
    "text = text[81:]"
   ]
  },
  {
   "cell_type": "markdown",
   "metadata": {
    "deletable": true,
    "editable": true
   },
   "source": [
    "## Explore the Data\n",
    "Play around with `view_sentence_range` to view different parts of the data."
   ]
  },
  {
   "cell_type": "code",
   "execution_count": 2,
   "metadata": {
    "collapsed": false,
    "deletable": true,
    "editable": true
   },
   "outputs": [
    {
     "name": "stdout",
     "output_type": "stream",
     "text": [
      "Dataset Stats\n",
      "Roughly the number of unique words: 11492\n",
      "Number of scenes: 262\n",
      "Average number of sentences in each scene: 15.248091603053435\n",
      "Number of lines: 4257\n",
      "Average number of words in each line: 11.50434578341555\n",
      "\n",
      "The sentences 0 to 10:\n",
      "Moe_Szyslak: (INTO PHONE) Moe's Tavern. Where the elite meet to drink.\n",
      "Bart_Simpson: Eh, yeah, hello, is Mike there? Last name, Rotch.\n",
      "Moe_Szyslak: (INTO PHONE) Hold on, I'll check. (TO BARFLIES) Mike Rotch. Mike Rotch. Hey, has anybody seen Mike Rotch, lately?\n",
      "Moe_Szyslak: (INTO PHONE) Listen you little puke. One of these days I'm gonna catch you, and I'm gonna carve my name on your back with an ice pick.\n",
      "Moe_Szyslak: What's the matter Homer? You're not your normal effervescent self.\n",
      "Homer_Simpson: I got my problems, Moe. Give me another one.\n",
      "Moe_Szyslak: Homer, hey, you should not drink to forget your problems.\n",
      "Barney_Gumble: Yeah, you should only drink to enhance your social skills.\n",
      "\n",
      "\n"
     ]
    }
   ],
   "source": [
    "view_sentence_range = (0, 10)\n",
    "\n",
    "\"\"\"\n",
    "DON'T MODIFY ANYTHING IN THIS CELL\n",
    "\"\"\"\n",
    "import numpy as np\n",
    "\n",
    "print('Dataset Stats')\n",
    "print('Roughly the number of unique words: {}'.format(len({word: None for word in text.split()})))\n",
    "scenes = text.split('\\n\\n')\n",
    "print('Number of scenes: {}'.format(len(scenes)))\n",
    "sentence_count_scene = [scene.count('\\n') for scene in scenes]\n",
    "print('Average number of sentences in each scene: {}'.format(np.average(sentence_count_scene)))\n",
    "\n",
    "sentences = [sentence for scene in scenes for sentence in scene.split('\\n')]\n",
    "print('Number of lines: {}'.format(len(sentences)))\n",
    "word_count_sentence = [len(sentence.split()) for sentence in sentences]\n",
    "print('Average number of words in each line: {}'.format(np.average(word_count_sentence)))\n",
    "\n",
    "print()\n",
    "print('The sentences {} to {}:'.format(*view_sentence_range))\n",
    "print('\\n'.join(text.split('\\n')[view_sentence_range[0]:view_sentence_range[1]]))"
   ]
  },
  {
   "cell_type": "markdown",
   "metadata": {
    "deletable": true,
    "editable": true
   },
   "source": [
    "## Implement Preprocessing Functions\n",
    "The first thing to do to any dataset is preprocessing.  Implement the following preprocessing functions below:\n",
    "- Lookup Table\n",
    "- Tokenize Punctuation\n",
    "\n",
    "### Lookup Table\n",
    "To create a word embedding, you first need to transform the words to ids.  In this function, create two dictionaries:\n",
    "- Dictionary to go from the words to an id, we'll call `vocab_to_int`\n",
    "- Dictionary to go from the id to word, we'll call `int_to_vocab`\n",
    "\n",
    "Return these dictionaries in the following tuple `(vocab_to_int, int_to_vocab)`"
   ]
  },
  {
   "cell_type": "code",
   "execution_count": 3,
   "metadata": {
    "collapsed": false,
    "deletable": true,
    "editable": true
   },
   "outputs": [
    {
     "name": "stdout",
     "output_type": "stream",
     "text": [
      "Tests Passed\n"
     ]
    }
   ],
   "source": [
    "import numpy as np\n",
    "import problem_unittests as tests\n",
    "\n",
    "def create_lookup_tables(text):\n",
    "    \"\"\"\n",
    "    Create lookup tables for vocabulary\n",
    "    :param text: The text of tv scripts split into words\n",
    "    :return: A tuple of dicts (vocab_to_int, int_to_vocab)\n",
    "    \"\"\"\n",
    "    #text = text[:10]\n",
    "    vocab_to_int = {} \n",
    "    int_to_vocab = {}\n",
    "    for i, w in enumerate(set(text)):\n",
    "        vocab_to_int[w] = i\n",
    "        int_to_vocab[i] = w\n",
    "        \n",
    "    return vocab_to_int, int_to_vocab\n",
    "\n",
    "\n",
    "\"\"\"\n",
    "DON'T MODIFY ANYTHING IN THIS CELL THAT IS BELOW THIS LINE\n",
    "\"\"\"\n",
    "tests.test_create_lookup_tables(create_lookup_tables)"
   ]
  },
  {
   "cell_type": "markdown",
   "metadata": {
    "deletable": true,
    "editable": true
   },
   "source": [
    "### Tokenize Punctuation\n",
    "We'll be splitting the script into a word array using spaces as delimiters.  However, punctuations like periods and exclamation marks make it hard for the neural network to distinguish between the word \"bye\" and \"bye!\".\n",
    "\n",
    "Implement the function `token_lookup` to return a dict that will be used to tokenize symbols like \"!\" into \"||Exclamation_Mark||\".  Create a dictionary for the following symbols where the symbol is the key and value is the token:\n",
    "- Period ( . )\n",
    "- Comma ( , )\n",
    "- Quotation Mark ( \" )\n",
    "- Semicolon ( ; )\n",
    "- Exclamation mark ( ! )\n",
    "- Question mark ( ? )\n",
    "- Left Parentheses ( ( )\n",
    "- Right Parentheses ( ) )\n",
    "- Dash ( -- )\n",
    "- Return ( \\n )\n",
    "\n",
    "This dictionary will be used to token the symbols and add the delimiter (space) around it.  This separates the symbols as it's own word, making it easier for the neural network to predict on the next word. Make sure you don't use a token that could be confused as a word. Instead of using the token \"dash\", try using something like \"||dash||\"."
   ]
  },
  {
   "cell_type": "code",
   "execution_count": 4,
   "metadata": {
    "collapsed": false,
    "deletable": true,
    "editable": true
   },
   "outputs": [
    {
     "name": "stdout",
     "output_type": "stream",
     "text": [
      "Tests Passed\n"
     ]
    }
   ],
   "source": [
    "def token_lookup():\n",
    "    \"\"\"\n",
    "    Generate a dict to turn punctuation into a token.\n",
    "    :return: Tokenize dictionary where the key is the punctuation and the value is the token\n",
    "    \"\"\"\n",
    "    symbols = {'.' : '§period§', \n",
    "               ',' : '§comma§', \n",
    "               '\"' : '§quotation_mark§', \n",
    "               ';' : '§semicolon§', \n",
    "               '!' : '§exclamation_mark§', \n",
    "               '?' : '§question_mark§', \n",
    "               '(' : '§lparentheses§', \n",
    "               ')' : '§rparentheses§', \n",
    "               '--' : '§dash§', \n",
    "               '\\n' : '§return§'}\n",
    "    # TODO: Implement Function\n",
    "    return symbols\n",
    "\n",
    "\"\"\"\n",
    "DON'T MODIFY ANYTHING IN THIS CELL THAT IS BELOW THIS LINE\n",
    "\"\"\"\n",
    "tests.test_tokenize(token_lookup)"
   ]
  },
  {
   "cell_type": "markdown",
   "metadata": {
    "deletable": true,
    "editable": true
   },
   "source": [
    "## Preprocess all the data and save it\n",
    "Running the code cell below will preprocess all the data and save it to file."
   ]
  },
  {
   "cell_type": "code",
   "execution_count": 5,
   "metadata": {
    "collapsed": true,
    "deletable": true,
    "editable": true
   },
   "outputs": [],
   "source": [
    "\"\"\"\n",
    "DON'T MODIFY ANYTHING IN THIS CELL\n",
    "\"\"\"\n",
    "# Preprocess Training, Validation, and Testing Data\n",
    "helper.preprocess_and_save_data(data_dir, token_lookup, create_lookup_tables)"
   ]
  },
  {
   "cell_type": "markdown",
   "metadata": {
    "deletable": true,
    "editable": true
   },
   "source": [
    "# Check Point\n",
    "This is your first checkpoint. If you ever decide to come back to this notebook or have to restart the notebook, you can start from here. The preprocessed data has been saved to disk."
   ]
  },
  {
   "cell_type": "code",
   "execution_count": 6,
   "metadata": {
    "collapsed": false,
    "deletable": true,
    "editable": true
   },
   "outputs": [],
   "source": [
    "\"\"\"\n",
    "DON'T MODIFY ANYTHING IN THIS CELL\n",
    "\"\"\"\n",
    "import helper\n",
    "import numpy as np\n",
    "import problem_unittests as tests\n",
    "\n",
    "int_text, vocab_to_int, int_to_vocab, token_dict = helper.load_preprocess()"
   ]
  },
  {
   "cell_type": "markdown",
   "metadata": {
    "deletable": true,
    "editable": true
   },
   "source": [
    "## Build the Neural Network\n",
    "You'll build the components necessary to build a RNN by implementing the following functions below:\n",
    "- get_inputs\n",
    "- get_init_cell\n",
    "- get_embed\n",
    "- build_rnn\n",
    "- build_nn\n",
    "- get_batches\n",
    "\n",
    "### Check the Version of TensorFlow and Access to GPU"
   ]
  },
  {
   "cell_type": "code",
   "execution_count": 7,
   "metadata": {
    "collapsed": false,
    "deletable": true,
    "editable": true
   },
   "outputs": [
    {
     "name": "stdout",
     "output_type": "stream",
     "text": [
      "TensorFlow Version: 1.0.0\n",
      "Default GPU Device: /gpu:0\n"
     ]
    }
   ],
   "source": [
    "\"\"\"\n",
    "DON'T MODIFY ANYTHING IN THIS CELL\n",
    "\"\"\"\n",
    "from distutils.version import LooseVersion\n",
    "import warnings\n",
    "import tensorflow as tf\n",
    "\n",
    "# Check TensorFlow Version\n",
    "assert LooseVersion(tf.__version__) >= LooseVersion('1.0'), 'Please use TensorFlow version 1.0 or newer'\n",
    "print('TensorFlow Version: {}'.format(tf.__version__))\n",
    "\n",
    "# Check for a GPU\n",
    "if not tf.test.gpu_device_name():\n",
    "    warnings.warn('No GPU found. Please use a GPU to train your neural network.')\n",
    "else:\n",
    "    print('Default GPU Device: {}'.format(tf.test.gpu_device_name()))"
   ]
  },
  {
   "cell_type": "markdown",
   "metadata": {
    "deletable": true,
    "editable": true
   },
   "source": [
    "### Input\n",
    "Implement the `get_inputs()` function to create TF Placeholders for the Neural Network.  It should create the following placeholders:\n",
    "- Input text placeholder named \"input\" using the [TF Placeholder](https://www.tensorflow.org/api_docs/python/tf/placeholder) `name` parameter.\n",
    "- Targets placeholder\n",
    "- Learning Rate placeholder\n",
    "\n",
    "Return the placeholders in the following tuple `(Input, Targets, LearningRate)`"
   ]
  },
  {
   "cell_type": "code",
   "execution_count": 8,
   "metadata": {
    "collapsed": false,
    "deletable": true,
    "editable": true
   },
   "outputs": [
    {
     "name": "stdout",
     "output_type": "stream",
     "text": [
      "Tests Passed\n"
     ]
    }
   ],
   "source": [
    "def get_inputs():\n",
    "    \"\"\"\n",
    "    Create TF Placeholders for input, targets, and learning rate.\n",
    "    :return: Tuple (input, targets, learning rate)\n",
    "    \"\"\"\n",
    "    inputs = tf.placeholder(tf.int32, [None, None], name=\"input\")\n",
    "    targets = tf.placeholder(tf.int32, [None, None], name=\"targets\") \n",
    "    learning_rate = tf.placeholder(tf.float32, name=\"learning_rate\")\n",
    "    # TODO: Implement Function\n",
    "    return inputs, targets, learning_rate\n",
    "\n",
    "\n",
    "\"\"\"\n",
    "DON'T MODIFY ANYTHING IN THIS CELL THAT IS BELOW THIS LINE\n",
    "\"\"\"\n",
    "tests.test_get_inputs(get_inputs)"
   ]
  },
  {
   "cell_type": "markdown",
   "metadata": {
    "deletable": true,
    "editable": true
   },
   "source": [
    "### Build RNN Cell and Initialize\n",
    "Stack one or more [`BasicLSTMCells`](https://www.tensorflow.org/api_docs/python/tf/contrib/rnn/BasicLSTMCell) in a [`MultiRNNCell`](https://www.tensorflow.org/api_docs/python/tf/contrib/rnn/MultiRNNCell).\n",
    "- The Rnn size should be set using `rnn_size`\n",
    "- Initalize Cell State using the MultiRNNCell's [`zero_state()`](https://www.tensorflow.org/api_docs/python/tf/contrib/rnn/MultiRNNCell#zero_state) function\n",
    "    - Apply the name \"initial_state\" to the initial state using [`tf.identity()`](https://www.tensorflow.org/api_docs/python/tf/identity)\n",
    "\n",
    "Return the cell and initial state in the following tuple `(Cell, InitialState)`"
   ]
  },
  {
   "cell_type": "code",
   "execution_count": 9,
   "metadata": {
    "collapsed": false,
    "deletable": true,
    "editable": true
   },
   "outputs": [
    {
     "name": "stdout",
     "output_type": "stream",
     "text": [
      "Tests Passed\n"
     ]
    }
   ],
   "source": [
    "def get_init_cell(batch_size, rnn_size):\n",
    "    \"\"\"\n",
    "    Create an RNN Cell and initialize it.\n",
    "    :param batch_size: Size of batches\n",
    "    :param rnn_size: Size of RNNs\n",
    "    :return: Tuple (cell, initialize state)\n",
    "    \"\"\"\n",
    "    number_of_layers = 1\n",
    "    \n",
    "    def lstm_cell():\n",
    "        c = tf.contrib.rnn.BasicLSTMCell(rnn_size)\n",
    "        return tf.contrib.rnn.DropoutWrapper(c, output_keep_prob=0.1)\n",
    "    \n",
    "    stacked_lstm = tf.contrib.rnn.MultiRNNCell([lstm_cell() for _ in range(number_of_layers)])\n",
    "    # TODO: Implement Function\n",
    "    initial_state = stacked_lstm.zero_state(batch_size, tf.float32)\n",
    "    return stacked_lstm, tf.identity(initial_state, name = 'initial_state')\n",
    "\n",
    "\n",
    "\"\"\"\n",
    "DON'T MODIFY ANYTHING IN THIS CELL THAT IS BELOW THIS LINE\n",
    "\"\"\"\n",
    "tests.test_get_init_cell(get_init_cell)"
   ]
  },
  {
   "cell_type": "markdown",
   "metadata": {
    "deletable": true,
    "editable": true
   },
   "source": [
    "### Word Embedding\n",
    "Apply embedding to `input_data` using TensorFlow.  Return the embedded sequence."
   ]
  },
  {
   "cell_type": "code",
   "execution_count": 10,
   "metadata": {
    "collapsed": false,
    "deletable": true,
    "editable": true
   },
   "outputs": [
    {
     "name": "stdout",
     "output_type": "stream",
     "text": [
      "Tests Passed\n"
     ]
    }
   ],
   "source": [
    "def get_embed(input_data, vocab_size, embed_dim):\n",
    "    \"\"\"\n",
    "    Create embedding for <input_data>.\n",
    "    :param input_data: TF placeholder for text input.\n",
    "    :param vocab_size: Number of words in vocabulary.\n",
    "    :param embed_dim: Number of embedding dimensions\n",
    "    :return: Embedded input.\n",
    "    \"\"\"\n",
    "    # TODO: Implement Function\n",
    "    embedding = tf.Variable(tf.random_uniform((vocab_size, embed_dim), -1, 1))\n",
    "    return tf.nn.embedding_lookup(embedding, input_data)\n",
    "\n",
    "\n",
    "\"\"\"\n",
    "DON'T MODIFY ANYTHING IN THIS CELL THAT IS BELOW THIS LINE\n",
    "\"\"\"\n",
    "tests.test_get_embed(get_embed)"
   ]
  },
  {
   "cell_type": "markdown",
   "metadata": {
    "deletable": true,
    "editable": true
   },
   "source": [
    "### Build RNN\n",
    "You created a RNN Cell in the `get_init_cell()` function.  Time to use the cell to create a RNN.\n",
    "- Build the RNN using the [`tf.nn.dynamic_rnn()`](https://www.tensorflow.org/api_docs/python/tf/nn/dynamic_rnn)\n",
    " - Apply the name \"final_state\" to the final state using [`tf.identity()`](https://www.tensorflow.org/api_docs/python/tf/identity)\n",
    "\n",
    "Return the outputs and final_state state in the following tuple `(Outputs, FinalState)` "
   ]
  },
  {
   "cell_type": "code",
   "execution_count": 11,
   "metadata": {
    "collapsed": false,
    "deletable": true,
    "editable": true
   },
   "outputs": [
    {
     "name": "stdout",
     "output_type": "stream",
     "text": [
      "Tests Passed\n"
     ]
    }
   ],
   "source": [
    "def build_rnn(cell, inputs):\n",
    "    \"\"\"\n",
    "    Create a RNN using a RNN Cell\n",
    "    :param cell: RNN Cell\n",
    "    :param inputs: Input text data\n",
    "    :return: Tuple (Outputs, Final State)\n",
    "    \"\"\"\n",
    "    # TODO: Implement Function\n",
    "    outputs, final_state = tf.nn.dynamic_rnn(cell, inputs, dtype=tf.float32)\n",
    "    return outputs, tf.identity(final_state, name=\"final_state\")\n",
    "\n",
    "\n",
    "\"\"\"\n",
    "DON'T MODIFY ANYTHING IN THIS CELL THAT IS BELOW THIS LINE\n",
    "\"\"\"\n",
    "tests.test_build_rnn(build_rnn)"
   ]
  },
  {
   "cell_type": "markdown",
   "metadata": {
    "deletable": true,
    "editable": true
   },
   "source": [
    "### Build the Neural Network\n",
    "Apply the functions you implemented above to:\n",
    "- Apply embedding to `input_data` using your `get_embed(input_data, vocab_size, embed_dim)` function.\n",
    "- Build RNN using `cell` and your `build_rnn(cell, inputs)` function.\n",
    "- Apply a fully connected layer with a linear activation and `vocab_size` as the number of outputs.\n",
    "\n",
    "Return the logits and final state in the following tuple (Logits, FinalState) "
   ]
  },
  {
   "cell_type": "code",
   "execution_count": 12,
   "metadata": {
    "collapsed": false,
    "deletable": true,
    "editable": true
   },
   "outputs": [
    {
     "name": "stdout",
     "output_type": "stream",
     "text": [
      "Tests Passed\n"
     ]
    }
   ],
   "source": [
    "def build_nn(cell, rnn_size, input_data, vocab_size, embed_dim):\n",
    "    \"\"\"\n",
    "    Build part of the neural network\n",
    "    :param cell: RNN cell\n",
    "    :param rnn_size: Size of rnns\n",
    "    :param input_data: Input data\n",
    "    :param vocab_size: Vocabulary size\n",
    "    :param embed_dim: Number of embedding dimensions\n",
    "    :return: Tuple (Logits, FinalState)\n",
    "    \"\"\"\n",
    "    # TODO: Implement Function\n",
    "    einput = get_embed(input_data, vocab_size, embed_dim)\n",
    "    rnn_outputs, rnn_final_state = build_rnn(cell, einput)\n",
    "    \n",
    "    logits = tf.contrib.layers.fully_connected(rnn_outputs, vocab_size, activation_fn=None)\n",
    "    \n",
    "    return logits, rnn_final_state\n",
    "\n",
    "\n",
    "\"\"\"\n",
    "DON'T MODIFY ANYTHING IN THIS CELL THAT IS BELOW THIS LINE\n",
    "\"\"\"\n",
    "tests.test_build_nn(build_nn)"
   ]
  },
  {
   "cell_type": "markdown",
   "metadata": {
    "deletable": true,
    "editable": true
   },
   "source": [
    "### Batches\n",
    "Implement `get_batches` to create batches of input and targets using `int_text`.  The batches should be a Numpy array with the shape `(number of batches, 2, batch size, sequence length)`. Each batch contains two elements:\n",
    "- The first element is a single batch of **input** with the shape `[batch size, sequence length]`\n",
    "- The second element is a single batch of **targets** with the shape `[batch size, sequence length]`\n",
    "\n",
    "If you can't fill the last batch with enough data, drop the last batch.\n",
    "\n",
    "For exmple, `get_batches([1, 2, 3, 4, 5, 6, 7, 8, 9, 10, 11, 12, 13, 14, 15, 16, 17, 18, 19, 20], 3, 2)` would return a Numpy array of the following:\n",
    "```\n",
    "[\n",
    "  # First Batch\n",
    "  [\n",
    "    # Batch of Input\n",
    "    [[ 1  2], [ 7  8], [13 14]]\n",
    "    # Batch of targets\n",
    "    [[ 2  3], [ 8  9], [14 15]]\n",
    "  ]\n",
    "\n",
    "  # Second Batch\n",
    "  [\n",
    "    # Batch of Input\n",
    "    [[ 3  4], [ 9 10], [15 16]]\n",
    "    # Batch of targets\n",
    "    [[ 4  5], [10 11], [16 17]]\n",
    "  ]\n",
    "\n",
    "  # Third Batch\n",
    "  [\n",
    "    # Batch of Input\n",
    "    [[ 5  6], [11 12], [17 18]]\n",
    "    # Batch of targets\n",
    "    [[ 6  7], [12 13], [18  1]]\n",
    "  ]\n",
    "]\n",
    "```\n",
    "\n",
    "Notice that the last target value in the last batch is the first input value of the first batch. In this case, `1`. This is a common technique used when creating sequence batches, although it is rather unintuitive."
   ]
  },
  {
   "cell_type": "code",
   "execution_count": 13,
   "metadata": {
    "collapsed": false,
    "deletable": true,
    "editable": true
   },
   "outputs": [
    {
     "name": "stdout",
     "output_type": "stream",
     "text": [
      "Tests Passed\n"
     ]
    }
   ],
   "source": [
    "def get_batches(int_text, batch_size, seq_length):\n",
    "    \"\"\"\n",
    "    Return batches of input and target\n",
    "    :param int_text: Text with the words replaced by their ids\n",
    "    :param batch_size: The size of batch\n",
    "    :param seq_length: The length of sequence\n",
    "    :return: Batches as a Numpy array\n",
    "    \"\"\"\n",
    "    # TODO: Implement Function\n",
    "    \n",
    "    batch_chars = batch_size * seq_length\n",
    "    num_batch = len(int_text) // batch_chars\n",
    "    \n",
    "    # trim input length\n",
    "    int_text = int_text[:(num_batch*batch_chars)]\n",
    "    num_seq = len(int_text) // seq_length\n",
    "    \n",
    "    batches = [[[],[]] for _ in range(0, num_batch)]\n",
    "    for sn in range(0, num_seq):\n",
    "        bn = sn % num_batch\n",
    "        sbase = sn * seq_length\n",
    "        n = sbase + seq_length\n",
    "        inseq = int_text[sbase:n]\n",
    "        ouseq = int_text[sbase+1:n+1]\n",
    "        if len(ouseq) < seq_length:\n",
    "            ouseq.append(int_text[0])\n",
    "        batches[bn][0].append(inseq)\n",
    "        batches[bn][1].append(ouseq)\n",
    "\n",
    "    return np.array(batches)\n",
    "\n",
    "#print (get_batches([1, 2, 3, 4, 5, 6, 7, 8, 9, 10, 11, 12, 13, 14, 15, 16, 17, 18, 19, 20], 3, 2) )\n",
    "\"\"\"\n",
    "DON'T MODIFY ANYTHING IN THIS CELL THAT IS BELOW THIS LINE\n",
    "\"\"\"\n",
    "tests.test_get_batches(get_batches)"
   ]
  },
  {
   "cell_type": "markdown",
   "metadata": {
    "deletable": true,
    "editable": true
   },
   "source": [
    "## Neural Network Training\n",
    "### Hyperparameters\n",
    "Tune the following parameters:\n",
    "\n",
    "- Set `num_epochs` to the number of epochs.\n",
    "- Set `batch_size` to the batch size.\n",
    "- Set `rnn_size` to the size of the RNNs.\n",
    "- Set `embed_dim` to the size of the embedding.\n",
    "- Set `seq_length` to the length of sequence.\n",
    "- Set `learning_rate` to the learning rate.\n",
    "- Set `show_every_n_batches` to the number of batches the neural network should print progress."
   ]
  },
  {
   "cell_type": "code",
   "execution_count": 14,
   "metadata": {
    "collapsed": true,
    "deletable": true,
    "editable": true
   },
   "outputs": [],
   "source": [
    "# Number of Epochs\n",
    "num_epochs = 1000\n",
    "# Batch Size\n",
    "batch_size = 256\n",
    "# RNN Size\n",
    "rnn_size = 650\n",
    "# Embedding Dimension Size\n",
    "embed_dim = 200\n",
    "# Sequence Length\n",
    "seq_length = 75\n",
    "# Learning Rate\n",
    "learning_rate = 0.01\n",
    "# Show stats for every n number of batches\n",
    "show_every_n_batches = 10\n",
    "\n",
    "\"\"\"\n",
    "DON'T MODIFY ANYTHING IN THIS CELL THAT IS BELOW THIS LINE\n",
    "\"\"\"\n",
    "save_dir = './save'"
   ]
  },
  {
   "cell_type": "markdown",
   "metadata": {
    "deletable": true,
    "editable": true
   },
   "source": [
    "### Build the Graph\n",
    "Build the graph using the neural network you implemented."
   ]
  },
  {
   "cell_type": "code",
   "execution_count": 15,
   "metadata": {
    "collapsed": false,
    "deletable": true,
    "editable": true
   },
   "outputs": [],
   "source": [
    "\"\"\"\n",
    "DON'T MODIFY ANYTHING IN THIS CELL\n",
    "\"\"\"\n",
    "from tensorflow.contrib import seq2seq\n",
    "\n",
    "train_graph = tf.Graph()\n",
    "with train_graph.as_default():\n",
    "    vocab_size = len(int_to_vocab)\n",
    "    input_text, targets, lr = get_inputs()\n",
    "    input_data_shape = tf.shape(input_text)\n",
    "    cell, initial_state = get_init_cell(input_data_shape[0], rnn_size)\n",
    "    logits, final_state = build_nn(cell, rnn_size, input_text, vocab_size, embed_dim)\n",
    "\n",
    "    # Probabilities for generating words\n",
    "    probs = tf.nn.softmax(logits, name='probs')\n",
    "\n",
    "    # Loss function\n",
    "    cost = seq2seq.sequence_loss(\n",
    "        logits,\n",
    "        targets,\n",
    "        tf.ones([input_data_shape[0], input_data_shape[1]]))\n",
    "\n",
    "    # Optimizer\n",
    "    optimizer = tf.train.AdamOptimizer(lr)\n",
    "\n",
    "    # Gradient Clipping\n",
    "    gradients = optimizer.compute_gradients(cost)\n",
    "    capped_gradients = [(tf.clip_by_value(grad, -1., 1.), var) for grad, var in gradients if grad is not None]\n",
    "    train_op = optimizer.apply_gradients(capped_gradients)"
   ]
  },
  {
   "cell_type": "markdown",
   "metadata": {
    "deletable": true,
    "editable": true
   },
   "source": [
    "## Train\n",
    "Train the neural network on the preprocessed data.  If you have a hard time getting a good loss, check the [forums](https://discussions.udacity.com/) to see if anyone is having the same problem."
   ]
  },
  {
   "cell_type": "code",
   "execution_count": 16,
   "metadata": {
    "collapsed": false,
    "deletable": true,
    "editable": true
   },
   "outputs": [
    {
     "name": "stdout",
     "output_type": "stream",
     "text": [
      "Epoch   0 Batch    0/3   train_loss = 8.826\n",
      "Epoch   3 Batch    1/3   train_loss = 6.036\n",
      "Epoch   6 Batch    2/3   train_loss = 5.687\n",
      "Epoch  10 Batch    0/3   train_loss = 5.355\n",
      "Epoch  13 Batch    1/3   train_loss = 5.150\n",
      "Epoch  16 Batch    2/3   train_loss = 4.954\n",
      "Epoch  20 Batch    0/3   train_loss = 4.724\n",
      "Epoch  23 Batch    1/3   train_loss = 4.583\n",
      "Epoch  26 Batch    2/3   train_loss = 4.451\n",
      "Epoch  30 Batch    0/3   train_loss = 4.261\n",
      "Epoch  33 Batch    1/3   train_loss = 4.185\n",
      "Epoch  36 Batch    2/3   train_loss = 4.051\n",
      "Epoch  40 Batch    0/3   train_loss = 3.909\n",
      "Epoch  43 Batch    1/3   train_loss = 3.842\n",
      "Epoch  46 Batch    2/3   train_loss = 3.730\n",
      "Epoch  50 Batch    0/3   train_loss = 3.614\n",
      "Epoch  53 Batch    1/3   train_loss = 3.576\n",
      "Epoch  56 Batch    2/3   train_loss = 3.460\n",
      "Epoch  60 Batch    0/3   train_loss = 3.373\n",
      "Epoch  63 Batch    1/3   train_loss = 3.341\n",
      "Epoch  66 Batch    2/3   train_loss = 3.267\n",
      "Epoch  70 Batch    0/3   train_loss = 3.149\n",
      "Epoch  73 Batch    1/3   train_loss = 3.161\n",
      "Epoch  76 Batch    2/3   train_loss = 3.106\n",
      "Epoch  80 Batch    0/3   train_loss = 2.992\n",
      "Epoch  83 Batch    1/3   train_loss = 2.969\n",
      "Epoch  86 Batch    2/3   train_loss = 2.913\n",
      "Epoch  90 Batch    0/3   train_loss = 2.848\n",
      "Epoch  93 Batch    1/3   train_loss = 2.853\n",
      "Epoch  96 Batch    2/3   train_loss = 2.792\n",
      "Epoch 100 Batch    0/3   train_loss = 2.706\n",
      "Epoch 103 Batch    1/3   train_loss = 2.712\n",
      "Epoch 106 Batch    2/3   train_loss = 2.656\n",
      "Epoch 110 Batch    0/3   train_loss = 2.605\n",
      "Epoch 113 Batch    1/3   train_loss = 2.602\n",
      "Epoch 116 Batch    2/3   train_loss = 2.559\n",
      "Epoch 120 Batch    0/3   train_loss = 2.482\n",
      "Epoch 123 Batch    1/3   train_loss = 2.494\n",
      "Epoch 126 Batch    2/3   train_loss = 2.434\n",
      "Epoch 130 Batch    0/3   train_loss = 2.390\n",
      "Epoch 133 Batch    1/3   train_loss = 2.402\n",
      "Epoch 136 Batch    2/3   train_loss = 2.376\n",
      "Epoch 140 Batch    0/3   train_loss = 2.301\n",
      "Epoch 143 Batch    1/3   train_loss = 2.318\n",
      "Epoch 146 Batch    2/3   train_loss = 2.276\n",
      "Epoch 150 Batch    0/3   train_loss = 2.209\n",
      "Epoch 153 Batch    1/3   train_loss = 2.241\n",
      "Epoch 156 Batch    2/3   train_loss = 2.204\n",
      "Epoch 160 Batch    0/3   train_loss = 2.147\n",
      "Epoch 163 Batch    1/3   train_loss = 2.166\n",
      "Epoch 166 Batch    2/3   train_loss = 2.119\n",
      "Epoch 170 Batch    0/3   train_loss = 2.074\n",
      "Epoch 173 Batch    1/3   train_loss = 2.093\n",
      "Epoch 176 Batch    2/3   train_loss = 2.066\n",
      "Epoch 180 Batch    0/3   train_loss = 2.009\n",
      "Epoch 183 Batch    1/3   train_loss = 2.017\n",
      "Epoch 186 Batch    2/3   train_loss = 2.003\n",
      "Epoch 190 Batch    0/3   train_loss = 1.974\n",
      "Epoch 193 Batch    1/3   train_loss = 1.986\n",
      "Epoch 196 Batch    2/3   train_loss = 1.955\n",
      "Epoch 200 Batch    0/3   train_loss = 1.894\n",
      "Epoch 203 Batch    1/3   train_loss = 1.910\n",
      "Epoch 206 Batch    2/3   train_loss = 1.886\n",
      "Epoch 210 Batch    0/3   train_loss = 1.854\n",
      "Epoch 213 Batch    1/3   train_loss = 1.859\n",
      "Epoch 216 Batch    2/3   train_loss = 1.831\n",
      "Epoch 220 Batch    0/3   train_loss = 1.807\n",
      "Epoch 223 Batch    1/3   train_loss = 1.812\n",
      "Epoch 226 Batch    2/3   train_loss = 1.798\n",
      "Epoch 230 Batch    0/3   train_loss = 1.773\n",
      "Epoch 233 Batch    1/3   train_loss = 1.782\n",
      "Epoch 236 Batch    2/3   train_loss = 1.756\n",
      "Epoch 240 Batch    0/3   train_loss = 1.713\n",
      "Epoch 243 Batch    1/3   train_loss = 1.733\n",
      "Epoch 246 Batch    2/3   train_loss = 1.718\n",
      "Epoch 250 Batch    0/3   train_loss = 1.674\n",
      "Epoch 253 Batch    1/3   train_loss = 1.706\n",
      "Epoch 256 Batch    2/3   train_loss = 1.667\n",
      "Epoch 260 Batch    0/3   train_loss = 1.645\n",
      "Epoch 263 Batch    1/3   train_loss = 1.642\n",
      "Epoch 266 Batch    2/3   train_loss = 1.619\n",
      "Epoch 270 Batch    0/3   train_loss = 1.587\n",
      "Epoch 273 Batch    1/3   train_loss = 1.615\n",
      "Epoch 276 Batch    2/3   train_loss = 1.617\n",
      "Epoch 280 Batch    0/3   train_loss = 1.577\n",
      "Epoch 283 Batch    1/3   train_loss = 1.570\n",
      "Epoch 286 Batch    2/3   train_loss = 1.545\n",
      "Epoch 290 Batch    0/3   train_loss = 1.534\n",
      "Epoch 293 Batch    1/3   train_loss = 1.544\n",
      "Epoch 296 Batch    2/3   train_loss = 1.537\n",
      "Epoch 300 Batch    0/3   train_loss = 1.516\n",
      "Epoch 303 Batch    1/3   train_loss = 1.513\n",
      "Epoch 306 Batch    2/3   train_loss = 1.488\n",
      "Epoch 310 Batch    0/3   train_loss = 1.480\n",
      "Epoch 313 Batch    1/3   train_loss = 1.499\n",
      "Epoch 316 Batch    2/3   train_loss = 1.473\n",
      "Epoch 320 Batch    0/3   train_loss = 1.423\n",
      "Epoch 323 Batch    1/3   train_loss = 1.450\n",
      "Epoch 326 Batch    2/3   train_loss = 1.433\n",
      "Epoch 330 Batch    0/3   train_loss = 1.418\n",
      "Epoch 333 Batch    1/3   train_loss = 1.431\n",
      "Epoch 336 Batch    2/3   train_loss = 1.433\n",
      "Epoch 340 Batch    0/3   train_loss = 1.381\n",
      "Epoch 343 Batch    1/3   train_loss = 1.409\n",
      "Epoch 346 Batch    2/3   train_loss = 1.397\n",
      "Epoch 350 Batch    0/3   train_loss = 1.362\n",
      "Epoch 353 Batch    1/3   train_loss = 1.371\n",
      "Epoch 356 Batch    2/3   train_loss = 1.383\n",
      "Epoch 360 Batch    0/3   train_loss = 1.361\n",
      "Epoch 363 Batch    1/3   train_loss = 1.351\n",
      "Epoch 366 Batch    2/3   train_loss = 1.340\n",
      "Epoch 370 Batch    0/3   train_loss = 1.329\n",
      "Epoch 373 Batch    1/3   train_loss = 1.333\n",
      "Epoch 376 Batch    2/3   train_loss = 1.306\n",
      "Epoch 380 Batch    0/3   train_loss = 1.294\n",
      "Epoch 383 Batch    1/3   train_loss = 1.314\n",
      "Epoch 386 Batch    2/3   train_loss = 1.289\n",
      "Epoch 390 Batch    0/3   train_loss = 1.297\n",
      "Epoch 393 Batch    1/3   train_loss = 1.277\n",
      "Epoch 396 Batch    2/3   train_loss = 1.261\n",
      "Epoch 400 Batch    0/3   train_loss = 1.255\n",
      "Epoch 403 Batch    1/3   train_loss = 1.276\n",
      "Epoch 406 Batch    2/3   train_loss = 1.276\n",
      "Epoch 410 Batch    0/3   train_loss = 1.269\n",
      "Epoch 413 Batch    1/3   train_loss = 1.272\n",
      "Epoch 416 Batch    2/3   train_loss = 1.247\n",
      "Epoch 420 Batch    0/3   train_loss = 1.229\n",
      "Epoch 423 Batch    1/3   train_loss = 1.246\n",
      "Epoch 426 Batch    2/3   train_loss = 1.243\n",
      "Epoch 430 Batch    0/3   train_loss = 1.236\n",
      "Epoch 433 Batch    1/3   train_loss = 1.212\n",
      "Epoch 436 Batch    2/3   train_loss = 1.231\n",
      "Epoch 440 Batch    0/3   train_loss = 1.202\n",
      "Epoch 443 Batch    1/3   train_loss = 1.228\n",
      "Epoch 446 Batch    2/3   train_loss = 1.206\n",
      "Epoch 450 Batch    0/3   train_loss = 1.181\n",
      "Epoch 453 Batch    1/3   train_loss = 1.201\n",
      "Epoch 456 Batch    2/3   train_loss = 1.191\n",
      "Epoch 460 Batch    0/3   train_loss = 1.173\n",
      "Epoch 463 Batch    1/3   train_loss = 1.188\n",
      "Epoch 466 Batch    2/3   train_loss = 1.171\n",
      "Epoch 470 Batch    0/3   train_loss = 1.156\n",
      "Epoch 473 Batch    1/3   train_loss = 1.163\n",
      "Epoch 476 Batch    2/3   train_loss = 1.157\n",
      "Epoch 480 Batch    0/3   train_loss = 1.125\n",
      "Epoch 483 Batch    1/3   train_loss = 1.163\n",
      "Epoch 486 Batch    2/3   train_loss = 1.118\n",
      "Epoch 490 Batch    0/3   train_loss = 1.117\n",
      "Epoch 493 Batch    1/3   train_loss = 1.138\n",
      "Epoch 496 Batch    2/3   train_loss = 1.153\n",
      "Epoch 500 Batch    0/3   train_loss = 1.124\n",
      "Epoch 503 Batch    1/3   train_loss = 1.117\n",
      "Epoch 506 Batch    2/3   train_loss = 1.130\n",
      "Epoch 510 Batch    0/3   train_loss = 1.098\n",
      "Epoch 513 Batch    1/3   train_loss = 1.099\n",
      "Epoch 516 Batch    2/3   train_loss = 1.107\n",
      "Epoch 520 Batch    0/3   train_loss = 1.077\n",
      "Epoch 523 Batch    1/3   train_loss = 1.117\n",
      "Epoch 526 Batch    2/3   train_loss = 1.097\n",
      "Epoch 530 Batch    0/3   train_loss = 1.052\n",
      "Epoch 533 Batch    1/3   train_loss = 1.098\n",
      "Epoch 536 Batch    2/3   train_loss = 1.086\n",
      "Epoch 540 Batch    0/3   train_loss = 1.048\n",
      "Epoch 543 Batch    1/3   train_loss = 1.074\n",
      "Epoch 546 Batch    2/3   train_loss = 1.075\n",
      "Epoch 550 Batch    0/3   train_loss = 1.050\n",
      "Epoch 553 Batch    1/3   train_loss = 1.083\n",
      "Epoch 556 Batch    2/3   train_loss = 1.064\n",
      "Epoch 560 Batch    0/3   train_loss = 1.053\n",
      "Epoch 563 Batch    1/3   train_loss = 1.045\n",
      "Epoch 566 Batch    2/3   train_loss = 1.055\n",
      "Epoch 570 Batch    0/3   train_loss = 1.042\n",
      "Epoch 573 Batch    1/3   train_loss = 1.071\n",
      "Epoch 576 Batch    2/3   train_loss = 1.056\n",
      "Epoch 580 Batch    0/3   train_loss = 1.045\n",
      "Epoch 583 Batch    1/3   train_loss = 1.044\n",
      "Epoch 586 Batch    2/3   train_loss = 1.044\n",
      "Epoch 590 Batch    0/3   train_loss = 1.028\n",
      "Epoch 593 Batch    1/3   train_loss = 1.043\n",
      "Epoch 596 Batch    2/3   train_loss = 1.030\n",
      "Epoch 600 Batch    0/3   train_loss = 0.990\n",
      "Epoch 603 Batch    1/3   train_loss = 1.026\n",
      "Epoch 606 Batch    2/3   train_loss = 1.016\n",
      "Epoch 610 Batch    0/3   train_loss = 1.011\n",
      "Epoch 613 Batch    1/3   train_loss = 1.026\n",
      "Epoch 616 Batch    2/3   train_loss = 1.000\n",
      "Epoch 620 Batch    0/3   train_loss = 0.986\n",
      "Epoch 623 Batch    1/3   train_loss = 1.021\n",
      "Epoch 626 Batch    2/3   train_loss = 0.990\n",
      "Epoch 630 Batch    0/3   train_loss = 0.980\n",
      "Epoch 633 Batch    1/3   train_loss = 0.994\n",
      "Epoch 636 Batch    2/3   train_loss = 0.993\n",
      "Epoch 640 Batch    0/3   train_loss = 0.976\n",
      "Epoch 643 Batch    1/3   train_loss = 0.998\n",
      "Epoch 646 Batch    2/3   train_loss = 0.995\n",
      "Epoch 650 Batch    0/3   train_loss = 0.951\n",
      "Epoch 653 Batch    1/3   train_loss = 0.985\n",
      "Epoch 656 Batch    2/3   train_loss = 0.970\n",
      "Epoch 660 Batch    0/3   train_loss = 0.949\n",
      "Epoch 663 Batch    1/3   train_loss = 0.985\n",
      "Epoch 666 Batch    2/3   train_loss = 0.961\n",
      "Epoch 670 Batch    0/3   train_loss = 0.954\n",
      "Epoch 673 Batch    1/3   train_loss = 0.994\n",
      "Epoch 676 Batch    2/3   train_loss = 0.984\n",
      "Epoch 680 Batch    0/3   train_loss = 0.973\n",
      "Epoch 683 Batch    1/3   train_loss = 0.970\n",
      "Epoch 686 Batch    2/3   train_loss = 0.962\n",
      "Epoch 690 Batch    0/3   train_loss = 0.944\n",
      "Epoch 693 Batch    1/3   train_loss = 0.967\n",
      "Epoch 696 Batch    2/3   train_loss = 0.964\n",
      "Epoch 700 Batch    0/3   train_loss = 0.925\n",
      "Epoch 703 Batch    1/3   train_loss = 0.955\n",
      "Epoch 706 Batch    2/3   train_loss = 0.951\n",
      "Epoch 710 Batch    0/3   train_loss = 0.940\n",
      "Epoch 713 Batch    1/3   train_loss = 0.936\n",
      "Epoch 716 Batch    2/3   train_loss = 0.937\n",
      "Epoch 720 Batch    0/3   train_loss = 0.926\n",
      "Epoch 723 Batch    1/3   train_loss = 0.956\n",
      "Epoch 726 Batch    2/3   train_loss = 0.915\n",
      "Epoch 730 Batch    0/3   train_loss = 0.910\n",
      "Epoch 733 Batch    1/3   train_loss = 0.931\n",
      "Epoch 736 Batch    2/3   train_loss = 0.923\n",
      "Epoch 740 Batch    0/3   train_loss = 0.918\n",
      "Epoch 743 Batch    1/3   train_loss = 0.919\n",
      "Epoch 746 Batch    2/3   train_loss = 0.928\n",
      "Epoch 750 Batch    0/3   train_loss = 0.910\n",
      "Epoch 753 Batch    1/3   train_loss = 0.925\n",
      "Epoch 756 Batch    2/3   train_loss = 0.926\n",
      "Epoch 760 Batch    0/3   train_loss = 0.894\n",
      "Epoch 763 Batch    1/3   train_loss = 0.918\n",
      "Epoch 766 Batch    2/3   train_loss = 0.918\n",
      "Epoch 770 Batch    0/3   train_loss = 0.902\n",
      "Epoch 773 Batch    1/3   train_loss = 0.924\n",
      "Epoch 776 Batch    2/3   train_loss = 0.912\n",
      "Epoch 780 Batch    0/3   train_loss = 0.871\n",
      "Epoch 783 Batch    1/3   train_loss = 0.905\n",
      "Epoch 786 Batch    2/3   train_loss = 0.897\n",
      "Epoch 790 Batch    0/3   train_loss = 0.887\n",
      "Epoch 793 Batch    1/3   train_loss = 0.912\n",
      "Epoch 796 Batch    2/3   train_loss = 0.910\n",
      "Epoch 800 Batch    0/3   train_loss = 0.886\n",
      "Epoch 803 Batch    1/3   train_loss = 0.917\n",
      "Epoch 806 Batch    2/3   train_loss = 0.905\n",
      "Epoch 810 Batch    0/3   train_loss = 0.883\n",
      "Epoch 813 Batch    1/3   train_loss = 0.903\n",
      "Epoch 816 Batch    2/3   train_loss = 0.927\n",
      "Epoch 820 Batch    0/3   train_loss = 0.890\n",
      "Epoch 823 Batch    1/3   train_loss = 0.914\n",
      "Epoch 826 Batch    2/3   train_loss = 0.891\n",
      "Epoch 830 Batch    0/3   train_loss = 0.874\n",
      "Epoch 833 Batch    1/3   train_loss = 0.899\n",
      "Epoch 836 Batch    2/3   train_loss = 0.880\n",
      "Epoch 840 Batch    0/3   train_loss = 0.874\n",
      "Epoch 843 Batch    1/3   train_loss = 0.920\n",
      "Epoch 846 Batch    2/3   train_loss = 0.903\n",
      "Epoch 850 Batch    0/3   train_loss = 0.869\n",
      "Epoch 853 Batch    1/3   train_loss = 0.911\n",
      "Epoch 856 Batch    2/3   train_loss = 0.883\n",
      "Epoch 860 Batch    0/3   train_loss = 0.881\n",
      "Epoch 863 Batch    1/3   train_loss = 0.875\n",
      "Epoch 866 Batch    2/3   train_loss = 0.876\n",
      "Epoch 870 Batch    0/3   train_loss = 0.871\n",
      "Epoch 873 Batch    1/3   train_loss = 0.876\n",
      "Epoch 876 Batch    2/3   train_loss = 0.870\n",
      "Epoch 880 Batch    0/3   train_loss = 0.830\n",
      "Epoch 883 Batch    1/3   train_loss = 0.849\n",
      "Epoch 886 Batch    2/3   train_loss = 0.861\n",
      "Epoch 890 Batch    0/3   train_loss = 0.851\n",
      "Epoch 893 Batch    1/3   train_loss = 0.869\n",
      "Epoch 896 Batch    2/3   train_loss = 0.859\n",
      "Epoch 900 Batch    0/3   train_loss = 0.843\n",
      "Epoch 903 Batch    1/3   train_loss = 0.858\n",
      "Epoch 906 Batch    2/3   train_loss = 0.865\n",
      "Epoch 910 Batch    0/3   train_loss = 0.827\n",
      "Epoch 913 Batch    1/3   train_loss = 0.856\n",
      "Epoch 916 Batch    2/3   train_loss = 0.853\n",
      "Epoch 920 Batch    0/3   train_loss = 0.842\n",
      "Epoch 923 Batch    1/3   train_loss = 0.857\n",
      "Epoch 926 Batch    2/3   train_loss = 0.839\n",
      "Epoch 930 Batch    0/3   train_loss = 0.835\n",
      "Epoch 933 Batch    1/3   train_loss = 0.839\n",
      "Epoch 936 Batch    2/3   train_loss = 0.844\n",
      "Epoch 940 Batch    0/3   train_loss = 0.833\n",
      "Epoch 943 Batch    1/3   train_loss = 0.839\n",
      "Epoch 946 Batch    2/3   train_loss = 0.846\n",
      "Epoch 950 Batch    0/3   train_loss = 0.855\n",
      "Epoch 953 Batch    1/3   train_loss = 0.840\n",
      "Epoch 956 Batch    2/3   train_loss = 0.864\n",
      "Epoch 960 Batch    0/3   train_loss = 0.832\n",
      "Epoch 963 Batch    1/3   train_loss = 0.855\n",
      "Epoch 966 Batch    2/3   train_loss = 0.837\n",
      "Epoch 970 Batch    0/3   train_loss = 0.853\n",
      "Epoch 973 Batch    1/3   train_loss = 0.863\n",
      "Epoch 976 Batch    2/3   train_loss = 0.823\n",
      "Epoch 980 Batch    0/3   train_loss = 0.825\n",
      "Epoch 983 Batch    1/3   train_loss = 0.840\n",
      "Epoch 986 Batch    2/3   train_loss = 0.839\n",
      "Epoch 990 Batch    0/3   train_loss = 0.831\n",
      "Epoch 993 Batch    1/3   train_loss = 0.821\n",
      "Epoch 996 Batch    2/3   train_loss = 0.833\n",
      "Model Trained and Saved\n"
     ]
    }
   ],
   "source": [
    "\"\"\"\n",
    "DON'T MODIFY ANYTHING IN THIS CELL\n",
    "\"\"\"\n",
    "batches = get_batches(int_text, batch_size, seq_length)\n",
    "\n",
    "with tf.Session(graph=train_graph) as sess:\n",
    "    sess.run(tf.global_variables_initializer())\n",
    "\n",
    "    for epoch_i in range(num_epochs):\n",
    "        state = sess.run(initial_state, {input_text: batches[0][0]})\n",
    "\n",
    "        for batch_i, (x, y) in enumerate(batches):\n",
    "            feed = {\n",
    "                input_text: x,\n",
    "                targets: y,\n",
    "                initial_state: state,\n",
    "                lr: learning_rate}\n",
    "            train_loss, state, _ = sess.run([cost, final_state, train_op], feed)\n",
    "\n",
    "            # Show every <show_every_n_batches> batches\n",
    "            if (epoch_i * len(batches) + batch_i) % show_every_n_batches == 0:\n",
    "                print('Epoch {:>3} Batch {:>4}/{}   train_loss = {:.3f}'.format(\n",
    "                    epoch_i,\n",
    "                    batch_i,\n",
    "                    len(batches),\n",
    "                    train_loss))\n",
    "\n",
    "    # Save Model\n",
    "    saver = tf.train.Saver()\n",
    "    saver.save(sess, save_dir)\n",
    "    print('Model Trained and Saved')"
   ]
  },
  {
   "cell_type": "markdown",
   "metadata": {
    "deletable": true,
    "editable": true
   },
   "source": [
    "## Save Parameters\n",
    "Save `seq_length` and `save_dir` for generating a new TV script."
   ]
  },
  {
   "cell_type": "code",
   "execution_count": 17,
   "metadata": {
    "collapsed": true,
    "deletable": true,
    "editable": true
   },
   "outputs": [],
   "source": [
    "\"\"\"\n",
    "DON'T MODIFY ANYTHING IN THIS CELL\n",
    "\"\"\"\n",
    "# Save parameters for checkpoint\n",
    "helper.save_params((seq_length, save_dir))"
   ]
  },
  {
   "cell_type": "markdown",
   "metadata": {
    "deletable": true,
    "editable": true
   },
   "source": [
    "# Checkpoint"
   ]
  },
  {
   "cell_type": "code",
   "execution_count": 18,
   "metadata": {
    "collapsed": true,
    "deletable": true,
    "editable": true
   },
   "outputs": [],
   "source": [
    "\"\"\"\n",
    "DON'T MODIFY ANYTHING IN THIS CELL\n",
    "\"\"\"\n",
    "import tensorflow as tf\n",
    "import numpy as np\n",
    "import helper\n",
    "import problem_unittests as tests\n",
    "\n",
    "_, vocab_to_int, int_to_vocab, token_dict = helper.load_preprocess()\n",
    "seq_length, load_dir = helper.load_params()"
   ]
  },
  {
   "cell_type": "markdown",
   "metadata": {
    "deletable": true,
    "editable": true
   },
   "source": [
    "## Implement Generate Functions\n",
    "### Get Tensors\n",
    "Get tensors from `loaded_graph` using the function [`get_tensor_by_name()`](https://www.tensorflow.org/api_docs/python/tf/Graph#get_tensor_by_name).  Get the tensors using the following names:\n",
    "- \"input:0\"\n",
    "- \"initial_state:0\"\n",
    "- \"final_state:0\"\n",
    "- \"probs:0\"\n",
    "\n",
    "Return the tensors in the following tuple `(InputTensor, InitialStateTensor, FinalStateTensor, ProbsTensor)` "
   ]
  },
  {
   "cell_type": "code",
   "execution_count": 19,
   "metadata": {
    "collapsed": false,
    "deletable": true,
    "editable": true
   },
   "outputs": [
    {
     "name": "stdout",
     "output_type": "stream",
     "text": [
      "Tests Passed\n"
     ]
    }
   ],
   "source": [
    "def get_tensors(loaded_graph):\n",
    "    \"\"\"\n",
    "    Get input, initial state, final state, and probabilities tensor from <loaded_graph>\n",
    "    :param loaded_graph: TensorFlow graph loaded from file\n",
    "    :return: Tuple (InputTensor, InitialStateTensor, FinalStateTensor, ProbsTensor)\n",
    "    \"\"\"\n",
    "    InputTensor = loaded_graph.get_tensor_by_name(\"input:0\") \n",
    "    InitialStateTensor = loaded_graph.get_tensor_by_name(\"initial_state:0\") \n",
    "    FinalStateTensor = loaded_graph.get_tensor_by_name(\"final_state:0\") \n",
    "    ProbsTensor = loaded_graph.get_tensor_by_name(\"probs:0\") \n",
    "    \n",
    "    return InputTensor, InitialStateTensor, FinalStateTensor, ProbsTensor\n",
    "\n",
    "\n",
    "\"\"\"\n",
    "DON'T MODIFY ANYTHING IN THIS CELL THAT IS BELOW THIS LINE\n",
    "\"\"\"\n",
    "tests.test_get_tensors(get_tensors)"
   ]
  },
  {
   "cell_type": "markdown",
   "metadata": {
    "deletable": true,
    "editable": true
   },
   "source": [
    "### Choose Word\n",
    "Implement the `pick_word()` function to select the next word using `probabilities`."
   ]
  },
  {
   "cell_type": "code",
   "execution_count": 20,
   "metadata": {
    "collapsed": false,
    "deletable": true,
    "editable": true
   },
   "outputs": [
    {
     "name": "stdout",
     "output_type": "stream",
     "text": [
      "Tests Passed\n"
     ]
    }
   ],
   "source": [
    "def pick_word(probabilities, int_to_vocab):\n",
    "    \"\"\"\n",
    "    Pick the next word in the generated text\n",
    "    :param probabilities: Probabilites of the next word\n",
    "    :param int_to_vocab: Dictionary of word ids as the keys and words as the values\n",
    "    :return: String of the predicted word\n",
    "    \"\"\"\n",
    "    # TODO: Implement Function\n",
    "    return int_to_vocab[np.argmax(probabilities)]\n",
    "\n",
    "\n",
    "\"\"\"\n",
    "DON'T MODIFY ANYTHING IN THIS CELL THAT IS BELOW THIS LINE\n",
    "\"\"\"\n",
    "tests.test_pick_word(pick_word)"
   ]
  },
  {
   "cell_type": "markdown",
   "metadata": {
    "deletable": true,
    "editable": true
   },
   "source": [
    "## Generate TV Script\n",
    "This will generate the TV script for you.  Set `gen_length` to the length of TV script you want to generate."
   ]
  },
  {
   "cell_type": "code",
   "execution_count": 21,
   "metadata": {
    "collapsed": false,
    "deletable": true,
    "editable": true
   },
   "outputs": [
    {
     "name": "stdout",
     "output_type": "stream",
     "text": [
      "moe_szyslak:(into his breath)\" what the buddy.\n",
      "billy_the_kid: that's piano! i was like a racially-diverse into watered before my new colonel: ah...\n",
      "homer_simpson: woo?(up concerned) i'm this... oh, it's paint the house you to bring glass some junior more with a fool of nuclear workers.(ladies through which off cost time) want you to the little deliberately here worry...(to barflies) yee-haw?(looks) barflies) so beat, ooo, or maybe i'm an intervention.\n",
      "\n",
      "\n",
      "lenny_leonard: we're surprised) this isn't that something alcohol for stools up to the\" blue secret of / professor like the\n",
      "expert.\n",
      "homer_simpson:(moans) here's me / i gave mother marge yeah in the all-star game.\n",
      "barney_gumble:(for approval) food! my duff to war homer_simpson: in... this is gonna get out my beer!\n",
      "homer_simpson:(not much) hey, don't homer, these days just took looking sighs too is the image phase.\n",
      "moe_szyslak:\n"
     ]
    }
   ],
   "source": [
    "gen_length = 200\n",
    "# homer_simpson, moe_szyslak, or Barney_Gumble\n",
    "prime_word = 'moe_szyslak'\n",
    "\n",
    "\"\"\"\n",
    "DON'T MODIFY ANYTHING IN THIS CELL THAT IS BELOW THIS LINE\n",
    "\"\"\"\n",
    "loaded_graph = tf.Graph()\n",
    "with tf.Session(graph=loaded_graph) as sess:\n",
    "    # Load saved model\n",
    "    loader = tf.train.import_meta_graph(load_dir + '.meta')\n",
    "    loader.restore(sess, load_dir)\n",
    "\n",
    "    # Get Tensors from loaded model\n",
    "    input_text, initial_state, final_state, probs = get_tensors(loaded_graph)\n",
    "\n",
    "    # Sentences generation setup\n",
    "    gen_sentences = [prime_word + ':']\n",
    "    prev_state = sess.run(initial_state, {input_text: np.array([[1]])})\n",
    "\n",
    "    # Generate sentences\n",
    "    for n in range(gen_length):\n",
    "        # Dynamic Input\n",
    "        dyn_input = [[vocab_to_int[word] for word in gen_sentences[-seq_length:]]]\n",
    "        dyn_seq_length = len(dyn_input[0])\n",
    "\n",
    "        # Get Prediction\n",
    "        probabilities, prev_state = sess.run(\n",
    "            [probs, final_state],\n",
    "            {input_text: dyn_input, initial_state: prev_state})\n",
    "        \n",
    "        pred_word = pick_word(probabilities[dyn_seq_length-1], int_to_vocab)\n",
    "\n",
    "        gen_sentences.append(pred_word)\n",
    "    \n",
    "    # Remove tokens\n",
    "    tv_script = ' '.join(gen_sentences)\n",
    "    for key, token in token_dict.items():\n",
    "        ending = ' ' if key in ['\\n', '(', '\"'] else ''\n",
    "        tv_script = tv_script.replace(' ' + token.lower(), key)\n",
    "    tv_script = tv_script.replace('\\n ', '\\n')\n",
    "    tv_script = tv_script.replace('( ', '(')\n",
    "        \n",
    "    print(tv_script)"
   ]
  },
  {
   "cell_type": "markdown",
   "metadata": {
    "deletable": true,
    "editable": true
   },
   "source": [
    "# The TV Script is Nonsensical\n",
    "It's ok if the TV script doesn't make any sense.  We trained on less than a megabyte of text.  In order to get good results, you'll have to use a smaller vocabulary or get more data.  Luckly there's more data!  As we mentioned in the begging of this project, this is a subset of [another dataset](https://www.kaggle.com/wcukierski/the-simpsons-by-the-data).  We didn't have you train on all the data, because that would take too long.  However, you are free to train your neural network on all the data.  After you complete the project, of course.\n",
    "# Submitting This Project\n",
    "When submitting this project, make sure to run all the cells before saving the notebook. Save the notebook file as \"dlnd_tv_script_generation.ipynb\" and save it as a HTML file under \"File\" -> \"Download as\". Include the \"helper.py\" and \"problem_unittests.py\" files in your submission."
   ]
  }
 ],
 "metadata": {
  "anaconda-cloud": {},
  "kernelspec": {
   "display_name": "Python [default]",
   "language": "python",
   "name": "python3"
  },
  "language_info": {
   "codemirror_mode": {
    "name": "ipython",
    "version": 3
   },
   "file_extension": ".py",
   "mimetype": "text/x-python",
   "name": "python",
   "nbconvert_exporter": "python",
   "pygments_lexer": "ipython3",
   "version": "3.5.2"
  },
  "widgets": {
   "state": {},
   "version": "1.1.2"
  }
 },
 "nbformat": 4,
 "nbformat_minor": 1
}
